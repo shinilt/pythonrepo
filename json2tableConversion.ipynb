{
 "cells": [
  {
   "cell_type": "code",
   "execution_count": 26,
   "metadata": {},
   "outputs": [
    {
     "name": "stdout",
     "output_type": "stream",
     "text": [
      "<table style=\"width:100%\" border=\"1\" border-collapse=\"collapse\"><tr><th>Message</th><td>Hi there, we didnt get your message</td></tr><tr><th>ResponseStatus</th><td>Waiting</td></tr></table>\n"
     ]
    }
   ],
   "source": [
    "import json2table\n",
    "import json\n",
    "\n",
    "#with open('mappingjson', 'r') as f2:\n",
    " #   data = f2.read()\n",
    "    #print(data)\n",
    "    \n",
    "data='{\"Message\": \"Hi there, we didnt get your message\",\"ResponseStatus\": \"Waiting\"}'\n",
    "infoFromJson = json.loads(data)\n",
    "    \n",
    "\n",
    "build_direction = \"LEFT_TO_RIGHT\"\n",
    "table_attributes = {\"style\": \"width:100%\", \"border\":1,\"border-collapse\": \"collapse\"}\n",
    "jango=json2table.convert(infoFromJson, build_direction=build_direction, table_attributes=table_attributes)\n",
    "print(jango)"
   ]
  },
  {
   "cell_type": "code",
   "execution_count": null,
   "metadata": {},
   "outputs": [],
   "source": []
  }
 ],
 "metadata": {
  "kernelspec": {
   "display_name": "Python 3",
   "language": "python",
   "name": "python3"
  },
  "language_info": {
   "codemirror_mode": {
    "name": "ipython",
    "version": 3
   },
   "file_extension": ".py",
   "mimetype": "text/x-python",
   "name": "python",
   "nbconvert_exporter": "python",
   "pygments_lexer": "ipython3",
   "version": "3.7.4"
  }
 },
 "nbformat": 4,
 "nbformat_minor": 2
}
