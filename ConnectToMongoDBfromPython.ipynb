{
 "cells": [
  {
   "cell_type": "code",
   "execution_count": 18,
   "metadata": {},
   "outputs": [],
   "source": [
    "from pymongo import MongoClient\n",
    "from pprint import pprint\n",
    "\n",
    "username='myuser'\n",
    "password= 'secret'\n",
    "# client = MongoClient('192.168.99.100',27017) this is used to login without credentials =to docker mongodb instance\n",
    "# 'mydatabase' is the db name created in the docker mongodb instance. user pass is set to this db .hence we have to specify the db below\n",
    "client=MongoClient('mongodb://%s:%s@192.168.99.100:27017/mydatabase' % (username, password))\n",
    "#create a new database similar to mydatabase\n",
    "db=client.business\n"
   ]
  },
  {
   "cell_type": "code",
   "execution_count": 19,
   "metadata": {},
   "outputs": [
    {
     "name": "stdout",
     "output_type": "stream",
     "text": [
      "Created 500 of 500 as 5e2c4bf28e8bd81f976355ab\n"
     ]
    }
   ],
   "source": [
    "from random import randint\n",
    "#Step 2: Create sample data\n",
    "names = ['Kitchen','Animal','State', 'Tastey', 'Big','City','Fish', 'Pizza','Goat', 'Salty','Sandwich','Lazy', 'Fun']\n",
    "company_type = ['LLC','Inc','Company','Corporation']\n",
    "company_cuisine = ['Pizza', 'Bar Food', 'Fast Food', 'Italian', 'Mexican', 'American', 'Sushi Bar', 'Vegetarian']\n",
    "for x in range(1, 501):\n",
    "    business = {\n",
    "        'name' : names[randint(0, (len(names)-1))] + ' ' + names[randint(0, (len(names)-1))]  + ' ' + company_type[randint(0, (len(company_type)-1))],\n",
    "        'rating' : randint(1, 5),\n",
    "        'cuisine' : company_cuisine[randint(0, (len(company_cuisine)-1))] \n",
    "    }\n",
    "    #Step 3: Insert business object directly into MongoDB via isnert_one to the collection(table) called reviews\n",
    "    result=db.reviews.insert_one(business)\n",
    "#Step 4: Print to the console the ObjectID of the new document\n",
    "print('Created {0} of 500 as {1}'.format(x,result.inserted_id))"
   ]
  },
  {
   "cell_type": "code",
   "execution_count": 20,
   "metadata": {},
   "outputs": [
    {
     "name": "stdout",
     "output_type": "stream",
     "text": [
      "{'_id': ObjectId('5e2c43f7e0a897cfc4494c3d'), 'name': 'Fun Lazy LLC', 'rating': 5, 'cuisine': 'American'}\n"
     ]
    }
   ],
   "source": [
    "#query the reviews collection with filters on rating\n",
    "fivestar = db.reviews.find_one({'rating': 5})\n",
    "print(fivestar)"
   ]
  },
  {
   "cell_type": "code",
   "execution_count": 21,
   "metadata": {},
   "outputs": [
    {
     "name": "stdout",
     "output_type": "stream",
     "text": [
      "112\n"
     ]
    }
   ],
   "source": [
    "#query the count of documents from the collection- this is the latest method\n",
    "fivestarcount = db.reviews.count_documents({'rating': 5})\n",
    "print(fivestarcount)"
   ]
  },
  {
   "cell_type": "code",
   "execution_count": null,
   "metadata": {},
   "outputs": [],
   "source": []
  }
 ],
 "metadata": {
  "kernelspec": {
   "display_name": "Python 3",
   "language": "python",
   "name": "python3"
  },
  "language_info": {
   "codemirror_mode": {
    "name": "ipython",
    "version": 3
   },
   "file_extension": ".py",
   "mimetype": "text/x-python",
   "name": "python",
   "nbconvert_exporter": "python",
   "pygments_lexer": "ipython3",
   "version": "3.7.4"
  }
 },
 "nbformat": 4,
 "nbformat_minor": 2
}
